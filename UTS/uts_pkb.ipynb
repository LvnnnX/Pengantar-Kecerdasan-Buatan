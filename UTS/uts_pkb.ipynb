{
  "cells": [
    {
      "attachments": {},
      "cell_type": "markdown",
      "metadata": {
        "id": "atQvN0YJsd4D"
      },
      "source": [
        "\n",
        "<h1 style='font-weight:bold;text-align:center;'>UTS Pengantar Kecerdasan Buatan</h1>\n",
        "\n",
        "<h2 style='text-align:center;font-weight:bold'> <font color='grene'>SOAL</font></h2>\n",
        "<p style='text-align:justify'> Seorang petani ingin menyeberangkan seekor kambing, seekor serigala, sayuran dengan menggunakan sebuah perahu melalui sungai. Perahu hanya bisa memuat petani & satu penumpang yang lain (kambing, serigala, atau sayuran). Jika ditinggalkan petani tersebut, maka sayuran dimakan kambing, dan kambing akan dimakan serigala.\n",
        "\n",
        "Buatlah langkah-langkah pencarian solusi atas permasalahan PETANI, KAMBING, SERIGALA, SAYURAN, PERAHU seperti contoh kasus ember di atas sehingga semuanya dapat menyeberang sungai lengkap dengan program dalam bahasa pemrograman python!</p>\n",
        "\n",
        "\n"
      ]
    },
    {
      "attachments": {},
      "cell_type": "markdown",
      "metadata": {
        "id": "ML4GdNFcuRG3"
      },
      "source": [
        "<h1> Langkah 1 := Install Modules yang diperlukan</h1>\n",
        "\n",
        "<h2> Modules yang diperlukan adalah </h2>\n",
        "<ol style='text-align:justify'>\n",
        "<li>Pandas (Untuk menghasilkan dataframe dan mempermudah membaca tampilan akhir) </li>\n",
        "<li>Tabulate (Untuk membantu Pandas dalam memberikan tampilan yang menarik)</li>\n",
        "<li>Numpy (Pada program ini sebenarnya tidak ada menggunaka nunmpy, kita install untuk jaga-jaga apabila menginginkan kecepatan yang lebih efisien di kemudian hari)</li>\n",
        "</ol>"
      ]
    },
    {
      "cell_type": "code",
      "execution_count": 20,
      "metadata": {
        "colab": {
          "base_uri": "https://localhost:8080/"
        },
        "id": "NsK6hINqsLhk",
        "outputId": "59cf04ad-848b-4fa6-9b99-670c549e4c41"
      },
      "outputs": [
        {
          "name": "stdout",
          "output_type": "stream",
          "text": [
            "Looking in indexes: https://pypi.org/simple, https://us-python.pkg.dev/colab-wheels/public/simple/\n",
            "Requirement already satisfied: pandas in /usr/local/lib/python3.10/dist-packages (1.5.3)\n",
            "Requirement already satisfied: python-dateutil>=2.8.1 in /usr/local/lib/python3.10/dist-packages (from pandas) (2.8.2)\n",
            "Requirement already satisfied: pytz>=2020.1 in /usr/local/lib/python3.10/dist-packages (from pandas) (2022.7.1)\n",
            "Requirement already satisfied: numpy>=1.21.0 in /usr/local/lib/python3.10/dist-packages (from pandas) (1.22.4)\n",
            "Requirement already satisfied: six>=1.5 in /usr/local/lib/python3.10/dist-packages (from python-dateutil>=2.8.1->pandas) (1.16.0)\n",
            "Looking in indexes: https://pypi.org/simple, https://us-python.pkg.dev/colab-wheels/public/simple/\n",
            "Requirement already satisfied: numpy in /usr/local/lib/python3.10/dist-packages (1.22.4)\n",
            "Looking in indexes: https://pypi.org/simple, https://us-python.pkg.dev/colab-wheels/public/simple/\n",
            "Requirement already satisfied: tabulate in /usr/local/lib/python3.10/dist-packages (0.8.10)\n"
          ]
        }
      ],
      "source": [
        "# !pip install pandas\n",
        "# !pip install numpy\n",
        "# !pip install tabulate"
      ]
    },
    {
      "attachments": {},
      "cell_type": "markdown",
      "metadata": {
        "id": "e92VFIjqvTKp"
      },
      "source": [
        "<h1> Langkah 2 := Menentukan Start state dan Final state</h1>\n",
        "\n",
        "<h3> Penjelasan tiap baris kode akan disisipkan pada kode</h3>"
      ]
    },
    {
      "cell_type": "code",
      "execution_count": 21,
      "metadata": {
        "id": "CfN5TBa9vcOC"
      },
      "outputs": [],
      "source": [
        "import pandas as pd #import module pandas\n",
        "\n",
        "pd.set_option('display.max_columns', None) #Setting agar pandas menampilkan semua kolom saat dipanggil\n",
        "\n",
        "START_STATE = {'petani': 'asal', 'kambing': 'asal', 'serigala': 'asal', 'sayuran': 'asal', 'perahu':'asal'} #Start state default (semua berada di awal)\n",
        "FINAL_STATE = {'petani': 'tujuan', 'kambing': 'tujuan', 'serigala': 'tujuan', 'sayuran': 'tujuan', 'perahu':'tujuan'} #Final state (semua berada di final)"
      ]
    },
    {
      "attachments": {},
      "cell_type": "markdown",
      "metadata": {
        "id": "WqPGNbp3v0RU"
      },
      "source": [
        "<h1> Langkah 3 := Mengambil user input</h1>"
      ]
    },
    {
      "cell_type": "code",
      "execution_count": 22,
      "metadata": {
        "colab": {
          "base_uri": "https://localhost:8080/"
        },
        "id": "HqqhQXuBv4qU",
        "outputId": "f343d1bf-9782-46a3-d473-fac0ebab5009"
      },
      "outputs": [
        {
          "name": "stdout",
          "output_type": "stream",
          "text": [
            "\n",
            "\n",
            "    ========================================\n",
            "    | Program nyebrang                     |\n",
            "    ========================================\n",
            "    Input lokasi awal dengan :\n",
            "    0/asal = di sisi awal\n",
            "    1/tujuan = di sisi tujuan\n",
            "\n",
            "\n",
            "Input lokasi Petani: 0\n",
            "Input lokasi Kambing: 0\n",
            "Input lokasi Serigala: 0\n",
            "Input lokasi Sayuran: 0\n",
            "Input lokasi Perahu: 0\n",
            "{'petani': 'asal', 'kambing': 'asal', 'serigala': 'asal', 'sayuran': 'asal', 'perahu': 'asal'}\n"
          ]
        }
      ],
      "source": [
        "user_input = {} #inisiasi sebuah dictionary untuk menyimpan user_input\n",
        "valid_input = ['0','1','asal','tujuan'] #list masukan yang valid\n",
        "\n",
        "print(\"\"\"\n",
        "\n",
        "    ========================================\n",
        "    | Program nyebrang                     |\n",
        "    ========================================\n",
        "    Input lokasi awal dengan :\n",
        "    0/asal = di sisi awal\n",
        "    1/tujuan = di sisi tujuan\n",
        "\n",
        "\"\"\")\n",
        "\n",
        "for i in (START_STATE.keys()): #untuk tiap key yang ada pada dictionary (petani, serigala itu keys)\n",
        "    while True:\n",
        "        try: #coba ambil input dari user\n",
        "            get_input = input(f'Input lokasi {i.capitalize()}: ') #masukan input ke variabel get_input\n",
        "            if get_input in valid_input: #kalau input yang dimasukan valid (ada di list valid_input)\n",
        "                user_input[i] = valid_input[valid_input.index(get_input)%2+2] #user input dengan keys (i) diisi nilainya dengan asal / tujuan, jika user input 0/1 maka akan ter konversi ke asal/tujuan juga.\n",
        "                break #break While True jika input yang dimasukkan benar/valid\n",
        "            else:\n",
        "                raise ValueError #jika input tidak valid, maka keluarkan error\n",
        "        except ValueError: #jika terjadi error\n",
        "            print('Input harus asal atau tujuan')\n",
        "\n",
        "if(user_input['perahu'] != user_input['petani']): #jika lokasi petani dan perahu berbeda\n",
        "    print('Perahu harus berada di sisi yang sama dengan petani')\n",
        "\n",
        "START_STATE = dict(START_STATE, **user_input) #timpa dictionary START_STATE dengan user_input\n",
        "print(START_STATE)"
      ]
    },
    {
      "attachments": {},
      "cell_type": "markdown",
      "metadata": {
        "id": "Y9t1OHYPxJKH"
      },
      "source": [
        "<h1> Langkah 4 := Menetapkan Aturan yang berlaku</h1>"
      ]
    },
    {
      "cell_type": "code",
      "execution_count": 23,
      "metadata": {
        "id": "Q8JuBoTBxMtY"
      },
      "outputs": [],
      "source": [
        "ATURAN = [\n",
        "    {'petani': 'tujuan', 'kambing': 'tujuan', 'perahu' : 'tujuan'},  # 1. petani membawa kambing ke tujuan\n",
        "    {'petani': 'tujuan', 'sayuran': 'tujuan', 'perahu' : 'tujuan'},  # 2. petani membawa sayuran ke tujuan\n",
        "    {'petani': 'tujuan', 'serigala': 'tujuan','perahu' : 'tujuan'},  # 3. petani membawa serigala ke tujuan\n",
        "    {'petani': 'asal', 'kambing': 'asal','perahu' : 'asal'},  # 4. petani membawa kambing ke asal\n",
        "    {'petani': 'asal', 'sayuran': 'asal','perahu' : 'asal'},  # 5. petani membawa sayuran ke asal\n",
        "    {'petani': 'asal', 'serigala': 'asal','perahu' : 'asal'},  # 6. petani membawa serigala ke asal\n",
        "    {'petani': 'asal','perahu' : 'asal'},  # 7. petani kembali ke asal\n",
        "    {'petani': 'tujuan','perahu' : 'tujuan'}  # 8. petani jalan ke tujuan\n",
        "]"
      ]
    },
    {
      "attachments": {},
      "cell_type": "markdown",
      "metadata": {
        "id": "9T0RBUxIxQO9"
      },
      "source": [
        "<h1> Langkah 5 := Membuat fungsi untuk validasi aturan yang akan digunakan</h1>"
      ]
    },
    {
      "cell_type": "code",
      "execution_count": 24,
      "metadata": {
        "id": "ZGnQodCvxPM5"
      },
      "outputs": [],
      "source": [
        "def is_valid(current_state:dict) -> bool:\n",
        "    #Cek apakah serigala dan kambing berada di sisi yang sama\n",
        "    if current_state['serigala'] == current_state['kambing'] and current_state['petani'] != current_state['serigala']:\n",
        "        return False\n",
        "    #Cek apakah kambing dan sayuran berada di sisi yang sama\n",
        "    if current_state['kambing'] == current_state['sayuran'] and current_state['petani'] != current_state['kambing']:\n",
        "        return False\n",
        "    return True\n",
        "\n",
        "def petani_check(current_state:dict, rule:dict) -> bool:\n",
        "    if 'petani' in current_state.keys():\n",
        "        if current_state['petani'] != rule['petani']: #jika petani tidak berada pada tempat yang sama setelah aturan dijalankan\n",
        "            return True #True berarti bahwa aturan ini valid untuk dijalankan\n",
        "    return False"
      ]
    },
    {
      "attachments": {},
      "cell_type": "markdown",
      "metadata": {
        "id": "VJC8VddXxYTe"
      },
      "source": [
        "<h1> Langkah 6 := Membuat fungsi DFS(Depth-First Search) untuk mencari hasil</h1>"
      ]
    },
    {
      "cell_type": "code",
      "execution_count": 25,
      "metadata": {
        "id": "4I3JwXvBxwPf"
      },
      "outputs": [],
      "source": [
        "def dfs(state:dict | None = START_STATE, visited:set | None = set()) -> list | None: #setting nilai default, nilai default dari state adalah START_STATE jika kosong, visited adalah set() jika kosong. Dengan output function berupa list atau NoneValue\n",
        "    stack = [(state, [])] #inisiasi stack untuk melakukan DFS\n",
        "    while stack: #jika masih ada state yang bisa dicoba dalam stack\n",
        "        current_state, path = stack.pop() #nilai yang ada pada stack adalah sebuah tuple dengan 2 isi yaitu state dan list (digunakan untuk menyimpan path) yang akan dibagi ke 2 variabel current_state dan path\n",
        "        if current_state == FINAL_STATE: #jika state sekarang adalah final_state\n",
        "            return path + [current_state] #output path + final_state\n",
        "        visited.add(tuple(current_state.items())) #tambahkan state sekarang kedalam rute yang sudah pernah dilewati agar tidak terjadi infinite loop\n",
        "        for rule in ATURAN: #untuk setiap aturan\n",
        "            if(petani_check(current_state,rule) and is_valid(new_state:=dict(current_state, **rule))): #cek apakah petani sekarang dan petani selanjutnya berada di tempat yang berbeda DAN langkah selanjutnya itu valid.\n",
        "                if tuple(new_state.items()) not in visited: #jika sudah valid, cek apakah sudah pernah dilewati, jika belum, tambahkan ke stack.\n",
        "                    stack.append((new_state, path + [current_state])) #tambahkan ke stack\n",
        "    return None"
      ]
    },
    {
      "attachments": {},
      "cell_type": "markdown",
      "metadata": {
        "id": "EJoZBOvzyxYI"
      },
      "source": [
        "<h1> Langkah 7 := Tampilkan hasil</h1>"
      ]
    },
    {
      "cell_type": "code",
      "execution_count": 26,
      "metadata": {
        "id": "kasT_ejw0VGO"
      },
      "outputs": [],
      "source": [
        "solution = dfs() #memanggil fungsi dfs dengan parameter default"
      ]
    },
    {
      "cell_type": "code",
      "execution_count": 27,
      "metadata": {
        "colab": {
          "base_uri": "https://localhost:8080/"
        },
        "id": "zbWbdwYSy0U7",
        "outputId": "58dc64be-21ba-498c-9260-0bdd38a9b9bb"
      },
      "outputs": [
        {
          "name": "stdout",
          "output_type": "stream",
          "text": [
            "|    | Petani   | Kambing   | Serigala   | Sayuran   | Perahu   |\n",
            "|---:|:---------|:----------|:-----------|:----------|:---------|\n",
            "|  0 | asal     | asal      | asal       | asal      | asal     |\n",
            "|  1 | tujuan   | tujuan    | asal       | asal      | tujuan   |\n",
            "|  2 | asal     | tujuan    | asal       | asal      | asal     |\n",
            "|  3 | tujuan   | tujuan    | tujuan     | asal      | tujuan   |\n",
            "|  4 | asal     | asal      | tujuan     | asal      | asal     |\n",
            "|  5 | tujuan   | asal      | tujuan     | tujuan    | tujuan   |\n",
            "|  6 | asal     | asal      | tujuan     | tujuan    | asal     |\n",
            "|  7 | tujuan   | tujuan    | tujuan     | tujuan    | tujuan   |\n"
          ]
        }
      ],
      "source": [
        "if solution != None: #jika ada solusi\n",
        "    df = pd.DataFrame(columns=list(START_STATE.keys())) #buat dataframe dengan kolom berupa keys pada START_STATE\n",
        "    for i in solution: #untuk setiap state (path) pada solusi\n",
        "        df.loc[len(df.index)] = i #tambahkan ke dataframe\n",
        "    df.rename(str.capitalize, axis='columns', inplace=True) #Ubah kolom dataframe menjadi kapital\n",
        "    print(df.to_markdown()) #tampilkan\n",
        "else:\n",
        "    print('Tidak ada solusi')"
      ]
    },
    {
      "attachments": {},
      "cell_type": "markdown",
      "metadata": {
        "id": "tseJJJt70KrB"
      },
      "source": [
        "<h1> Langkah 8 := ATAU, bisa gunakan display(), hal ini tidak memerlukan Module Tabulate.</h1>"
      ]
    },
    {
      "cell_type": "code",
      "execution_count": 28,
      "metadata": {
        "colab": {
          "base_uri": "https://localhost:8080/",
          "height": 300
        },
        "id": "2FEmH0qg0SCs",
        "outputId": "b1f1eb2c-592a-460f-c7a3-608a304970d8"
      },
      "outputs": [
        {
          "data": {
            "text/html": [
              "\n",
              "  <div id=\"df-1546ac96-498e-4865-a7f5-008cad1788cd\">\n",
              "    <div class=\"colab-df-container\">\n",
              "      <div>\n",
              "<style scoped>\n",
              "    .dataframe tbody tr th:only-of-type {\n",
              "        vertical-align: middle;\n",
              "    }\n",
              "\n",
              "    .dataframe tbody tr th {\n",
              "        vertical-align: top;\n",
              "    }\n",
              "\n",
              "    .dataframe thead th {\n",
              "        text-align: right;\n",
              "    }\n",
              "</style>\n",
              "<table border=\"1\" class=\"dataframe\">\n",
              "  <thead>\n",
              "    <tr style=\"text-align: right;\">\n",
              "      <th></th>\n",
              "      <th>Petani</th>\n",
              "      <th>Kambing</th>\n",
              "      <th>Serigala</th>\n",
              "      <th>Sayuran</th>\n",
              "      <th>Perahu</th>\n",
              "    </tr>\n",
              "  </thead>\n",
              "  <tbody>\n",
              "    <tr>\n",
              "      <th>0</th>\n",
              "      <td>asal</td>\n",
              "      <td>asal</td>\n",
              "      <td>asal</td>\n",
              "      <td>asal</td>\n",
              "      <td>asal</td>\n",
              "    </tr>\n",
              "    <tr>\n",
              "      <th>1</th>\n",
              "      <td>tujuan</td>\n",
              "      <td>tujuan</td>\n",
              "      <td>asal</td>\n",
              "      <td>asal</td>\n",
              "      <td>tujuan</td>\n",
              "    </tr>\n",
              "    <tr>\n",
              "      <th>2</th>\n",
              "      <td>asal</td>\n",
              "      <td>tujuan</td>\n",
              "      <td>asal</td>\n",
              "      <td>asal</td>\n",
              "      <td>asal</td>\n",
              "    </tr>\n",
              "    <tr>\n",
              "      <th>3</th>\n",
              "      <td>tujuan</td>\n",
              "      <td>tujuan</td>\n",
              "      <td>tujuan</td>\n",
              "      <td>asal</td>\n",
              "      <td>tujuan</td>\n",
              "    </tr>\n",
              "    <tr>\n",
              "      <th>4</th>\n",
              "      <td>asal</td>\n",
              "      <td>asal</td>\n",
              "      <td>tujuan</td>\n",
              "      <td>asal</td>\n",
              "      <td>asal</td>\n",
              "    </tr>\n",
              "    <tr>\n",
              "      <th>5</th>\n",
              "      <td>tujuan</td>\n",
              "      <td>asal</td>\n",
              "      <td>tujuan</td>\n",
              "      <td>tujuan</td>\n",
              "      <td>tujuan</td>\n",
              "    </tr>\n",
              "    <tr>\n",
              "      <th>6</th>\n",
              "      <td>asal</td>\n",
              "      <td>asal</td>\n",
              "      <td>tujuan</td>\n",
              "      <td>tujuan</td>\n",
              "      <td>asal</td>\n",
              "    </tr>\n",
              "    <tr>\n",
              "      <th>7</th>\n",
              "      <td>tujuan</td>\n",
              "      <td>tujuan</td>\n",
              "      <td>tujuan</td>\n",
              "      <td>tujuan</td>\n",
              "      <td>tujuan</td>\n",
              "    </tr>\n",
              "  </tbody>\n",
              "</table>\n",
              "</div>\n",
              "      <button class=\"colab-df-convert\" onclick=\"convertToInteractive('df-1546ac96-498e-4865-a7f5-008cad1788cd')\"\n",
              "              title=\"Convert this dataframe to an interactive table.\"\n",
              "              style=\"display:none;\">\n",
              "        \n",
              "  <svg xmlns=\"http://www.w3.org/2000/svg\" height=\"24px\"viewBox=\"0 0 24 24\"\n",
              "       width=\"24px\">\n",
              "    <path d=\"M0 0h24v24H0V0z\" fill=\"none\"/>\n",
              "    <path d=\"M18.56 5.44l.94 2.06.94-2.06 2.06-.94-2.06-.94-.94-2.06-.94 2.06-2.06.94zm-11 1L8.5 8.5l.94-2.06 2.06-.94-2.06-.94L8.5 2.5l-.94 2.06-2.06.94zm10 10l.94 2.06.94-2.06 2.06-.94-2.06-.94-.94-2.06-.94 2.06-2.06.94z\"/><path d=\"M17.41 7.96l-1.37-1.37c-.4-.4-.92-.59-1.43-.59-.52 0-1.04.2-1.43.59L10.3 9.45l-7.72 7.72c-.78.78-.78 2.05 0 2.83L4 21.41c.39.39.9.59 1.41.59.51 0 1.02-.2 1.41-.59l7.78-7.78 2.81-2.81c.8-.78.8-2.07 0-2.86zM5.41 20L4 18.59l7.72-7.72 1.47 1.35L5.41 20z\"/>\n",
              "  </svg>\n",
              "      </button>\n",
              "      \n",
              "  <style>\n",
              "    .colab-df-container {\n",
              "      display:flex;\n",
              "      flex-wrap:wrap;\n",
              "      gap: 12px;\n",
              "    }\n",
              "\n",
              "    .colab-df-convert {\n",
              "      background-color: #E8F0FE;\n",
              "      border: none;\n",
              "      border-radius: 50%;\n",
              "      cursor: pointer;\n",
              "      display: none;\n",
              "      fill: #1967D2;\n",
              "      height: 32px;\n",
              "      padding: 0 0 0 0;\n",
              "      width: 32px;\n",
              "    }\n",
              "\n",
              "    .colab-df-convert:hover {\n",
              "      background-color: #E2EBFA;\n",
              "      box-shadow: 0px 1px 2px rgba(60, 64, 67, 0.3), 0px 1px 3px 1px rgba(60, 64, 67, 0.15);\n",
              "      fill: #174EA6;\n",
              "    }\n",
              "\n",
              "    [theme=dark] .colab-df-convert {\n",
              "      background-color: #3B4455;\n",
              "      fill: #D2E3FC;\n",
              "    }\n",
              "\n",
              "    [theme=dark] .colab-df-convert:hover {\n",
              "      background-color: #434B5C;\n",
              "      box-shadow: 0px 1px 3px 1px rgba(0, 0, 0, 0.15);\n",
              "      filter: drop-shadow(0px 1px 2px rgba(0, 0, 0, 0.3));\n",
              "      fill: #FFFFFF;\n",
              "    }\n",
              "  </style>\n",
              "\n",
              "      <script>\n",
              "        const buttonEl =\n",
              "          document.querySelector('#df-1546ac96-498e-4865-a7f5-008cad1788cd button.colab-df-convert');\n",
              "        buttonEl.style.display =\n",
              "          google.colab.kernel.accessAllowed ? 'block' : 'none';\n",
              "\n",
              "        async function convertToInteractive(key) {\n",
              "          const element = document.querySelector('#df-1546ac96-498e-4865-a7f5-008cad1788cd');\n",
              "          const dataTable =\n",
              "            await google.colab.kernel.invokeFunction('convertToInteractive',\n",
              "                                                     [key], {});\n",
              "          if (!dataTable) return;\n",
              "\n",
              "          const docLinkHtml = 'Like what you see? Visit the ' +\n",
              "            '<a target=\"_blank\" href=https://colab.research.google.com/notebooks/data_table.ipynb>data table notebook</a>'\n",
              "            + ' to learn more about interactive tables.';\n",
              "          element.innerHTML = '';\n",
              "          dataTable['output_type'] = 'display_data';\n",
              "          await google.colab.output.renderOutput(dataTable, element);\n",
              "          const docLink = document.createElement('div');\n",
              "          docLink.innerHTML = docLinkHtml;\n",
              "          element.appendChild(docLink);\n",
              "        }\n",
              "      </script>\n",
              "    </div>\n",
              "  </div>\n",
              "  "
            ],
            "text/plain": [
              "   Petani Kambing Serigala Sayuran  Perahu\n",
              "0    asal    asal     asal    asal    asal\n",
              "1  tujuan  tujuan     asal    asal  tujuan\n",
              "2    asal  tujuan     asal    asal    asal\n",
              "3  tujuan  tujuan   tujuan    asal  tujuan\n",
              "4    asal    asal   tujuan    asal    asal\n",
              "5  tujuan    asal   tujuan  tujuan  tujuan\n",
              "6    asal    asal   tujuan  tujuan    asal\n",
              "7  tujuan  tujuan   tujuan  tujuan  tujuan"
            ]
          },
          "metadata": {},
          "output_type": "display_data"
        }
      ],
      "source": [
        "if solution != None: #jika ada solusi\n",
        "    df = pd.DataFrame(columns=list(START_STATE.keys())) #buat dataframe dengan kolom berupa keys pada START_STATE\n",
        "    for i in solution: #untuk setiap state (path) pada solusi\n",
        "        df.loc[len(df.index)] = i #tambahkan ke dataframe\n",
        "    df.rename(str.capitalize, axis='columns', inplace=True) #Ubah kolom dataframe menjadi kapital\n",
        "    display(df) #tampilkan\n",
        "else:\n",
        "    print('Tidak ada solusi')"
      ]
    }
  ],
  "metadata": {
    "colab": {
      "provenance": []
    },
    "kernelspec": {
      "display_name": "Python 3",
      "name": "python3"
    },
    "language_info": {
      "name": "python"
    }
  },
  "nbformat": 4,
  "nbformat_minor": 0
}
