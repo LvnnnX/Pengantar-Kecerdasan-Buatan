{
 "cells": [
  {
   "cell_type": "code",
   "execution_count": 82,
   "metadata": {},
   "outputs": [],
   "source": [
    "#Importing\n",
    "import dictdiffer\n",
    "import pandas as pd\n",
    "from copy import deepcopy\n",
    "import matplotlib.pyplot as plt\n",
    "from pandas.plotting import table"
   ]
  },
  {
   "attachments": {},
   "cell_type": "markdown",
   "metadata": {},
   "source": [
    "<h3>Desc</h3>\n",
    "<p>Perahu bisa tampung petani & 1 barang lain (Kambing, Serigala, Sayuran)<br>\n",
    "<h4>Rules:</h4>\n",
    "<ul>\n",
    "<p>Jika ditinggal petani, maka :</p>\n",
    "<li>1. Sayuran Dimakan Kambing</li>\n",
    "<li>2. Kambing Dimakan Serigala</li>\n",
    "</ul>\n",
    "</p>\n",
    "<h4>Aturan Penyeberangan:</h4>\n",
    "<ul>\n",
    "<li>1. Kambing menyeberang</li>\n",
    "<li>2. Sayuran menyeberang</li>\n",
    "<li>3. Serigala menyeberang</li>\n",
    "<li>4. Kambing kembali</li>\n",
    "<li>5. Sayuran kembali</li>\n",
    "<li>6. Serigala kembali</li>\n",
    "<li>7. Perahu kembali</li>\n",
    "</ul>\n",
    "<h4>Kondisi awal</h4>\n",
    "<p>\n",
    "(Jumlah Kambing, Jumlah Serigala, Jumlah Sayuran, Jumlah Perahu)<br>\n",
    "Example: (1,1,1,1)\n",
    "</p>"
   ]
  },
  {
   "attachments": {},
   "cell_type": "markdown",
   "metadata": {},
   "source": [
    "<h3>Init state</h3>"
   ]
  },
  {
   "cell_type": "code",
   "execution_count": 83,
   "metadata": {},
   "outputs": [],
   "source": [
    "START_STATE = {'kambing': 'asal', 'serigala': 'asal', 'sayuran': 'asal', 'perahu': 'asal'}\n",
    "FINAL_STATE = {'kambing': 'tujuan', 'serigala': 'tujuan', 'sayuran': 'tujuan', 'perahu': 'tujuan'}"
   ]
  },
  {
   "attachments": {},
   "cell_type": "markdown",
   "metadata": {},
   "source": [
    "<h3>Aturan-aturan</h3>"
   ]
  },
  {
   "cell_type": "code",
   "execution_count": 84,
   "metadata": {},
   "outputs": [],
   "source": [
    "ATURAN = [\n",
    "    {'perahu': 'tujuan', 'kambing': 'tujuan'},  # 1. perahu membawa kambing ke tujuan\n",
    "    {'perahu': 'tujuan', 'sayuran': 'tujuan'},  # 2. perahu membawa sayuran ke tujuan\n",
    "    {'perahu': 'tujuan', 'serigala': 'tujuan'},  # 3. perahu membawa serigala ke tujuan\n",
    "    {'perahu': 'asal', 'kambing': 'asal'},  # 4. perahu membawa kambing ke asal\n",
    "    {'perahu': 'asal', 'sayuran': 'asal'},  # 5. perahu membawa sayuran ke asal\n",
    "    {'perahu': 'asal', 'serigala': 'asal'},  # 6. perahu membawa serigala ke asal\n",
    "    {'perahu': 'asal'},  # 7. perahu kembali ke asal\n",
    "    # {'perahu': 'tujuan'}  # 8. perahu jalan ke tujuan\n",
    "]"
   ]
  },
  {
   "attachments": {},
   "cell_type": "markdown",
   "metadata": {},
   "source": [
    "<h3>Cek apakah kondisi memenuhi rule</h3>"
   ]
  },
  {
   "cell_type": "code",
   "execution_count": 85,
   "metadata": {},
   "outputs": [],
   "source": [
    "def is_valid(current_state:dict) -> bool:\n",
    "    #Cek apakah serigala dan kambing berada di sisi yang sama\n",
    "    if current_state['serigala'] == current_state['kambing'] and current_state['perahu'] != current_state['serigala']:\n",
    "    # if current_state['serigala'] == current_state['kambing']:\n",
    "        return False\n",
    "    #Cek apakah kambing dan sayuran berada di sisi yang sama\n",
    "    if current_state['kambing'] == current_state['sayuran'] and current_state['perahu'] != current_state['kambing']:\n",
    "    # if current_state['kambing'] == current_state['sayuran']:\n",
    "        return False\n",
    "    return True"
   ]
  },
  {
   "attachments": {},
   "cell_type": "markdown",
   "metadata": {},
   "source": [
    "<h3>BFS Algorithm</h3>"
   ]
  },
  {
   "cell_type": "code",
   "execution_count": 86,
   "metadata": {},
   "outputs": [],
   "source": [
    "def bfs(state:dict) -> list:\n",
    "    queue = []\n",
    "    queue.append((state, [0]))\n",
    "    while queue:\n",
    "        current_state, path = queue.pop(0)\n",
    "        # print(*queue)\n",
    "        if current_state == FINAL_STATE:\n",
    "            return path\n",
    "        for key,action in enumerate(ATURAN):\n",
    "            new_state = {**current_state, **action}\n",
    "            if is_valid(new_state):\n",
    "            # if is_valid(new_state):\n",
    "                # new_path = path + [new_state]\n",
    "                new_path = path\n",
    "                new_path.append(key+1)\n",
    "                queue.append((new_state, new_path))\n",
    "    return None"
   ]
  },
  {
   "cell_type": "code",
   "execution_count": 87,
   "metadata": {},
   "outputs": [],
   "source": [
    "def bfs2(state: dict):\n",
    "    state['tingkatan_tree'] = '0'\n",
    "    df = pd.DataFrame(columns=state.keys())\n",
    "    df = df.append(state, ignore_index=True)\n",
    "    queue = []\n",
    "    tingkatan_tree = 0\n",
    "    queue.append((state, []))\n",
    "    while queue:\n",
    "        current_state, path = queue.pop(0)\n",
    "        tingkatan_tree += 1\n",
    "        del current_state['tingkatan_tree']\n",
    "        if current_state == FINAL_STATE:\n",
    "            # return path + [current_state]\n",
    "            current_state['tingkatan_tree'] = str(tingkatan_tree)\n",
    "            df = df.append(current_state, ignore_index=True)\n",
    "            return df\n",
    "        current_state['tingkatan_tree'] = str(tingkatan_tree)\n",
    "        for num,action in enumerate(ATURAN):\n",
    "            #Current state jadi acuan\n",
    "            new_state = current_state.copy()\n",
    "            cont_state = 0\n",
    "            list_action = list(action.keys())\n",
    "            list_action_value = list(action.values())\n",
    "            for key,value in zip(list_action,list_action_value):\n",
    "                if(current_state[key] == value):\n",
    "                    cont_state = 1\n",
    "                    break\n",
    "                else:\n",
    "                    new_state[key] = value\n",
    "            if(cont_state):\n",
    "                continue\n",
    "            # print(ATURAN[num])\n",
    "            # new_state = {**current_state, **action}\n",
    "            if is_valid(new_state):\n",
    "                new_path = path\n",
    "                new_path.append(action)\n",
    "                queue.append((new_state, new_path))\n",
    "                df = df.append(new_state, ignore_index=True)\n",
    "    return None\n"
   ]
  },
  {
   "cell_type": "code",
   "execution_count": 88,
   "metadata": {},
   "outputs": [],
   "source": [
    "\n",
    "def get_bfs():\n",
    "    bfs_hasil = bfs2(START_STATE)\n",
    "\n",
    "    ax = plt.subplot(111,frame_on=False)\n",
    "    ax.xaxis.set_visible(False)\n",
    "    ax.yaxis.set_visible(False)\n",
    "    table(ax,bfs_hasil,loc='center')\n",
    "    plt.show()"
   ]
  },
  {
   "attachments": {},
   "cell_type": "markdown",
   "metadata": {},
   "source": [
    "<h3>DFS Algorithm</h3>"
   ]
  },
  {
   "cell_type": "code",
   "execution_count": 89,
   "metadata": {},
   "outputs": [],
   "source": [
    "def apply_rule(state: dict, rule: dict) -> dict:\n",
    "    new_state = state.copy()\n",
    "    for key, value in rule.items():\n",
    "        new_state[key] = value\n",
    "    return new_state\n",
    "\n",
    "def dfs(start_state: dict, final_state: dict) -> list:\n",
    "    stack = [(start_state, [])]\n",
    "    visited = set()\n",
    "    while stack:\n",
    "        state, path = stack.pop()\n",
    "        if state == final_state:\n",
    "            return path + [state]\n",
    "        visited.add(tuple(state.items()))\n",
    "        for action in ATURAN:\n",
    "            new_state = apply_rule(state, action)\n",
    "            if tuple(new_state.items()) not in visited and is_valid(new_state):\n",
    "                stack.append((new_state, path + [state]))\n",
    "    return None"
   ]
  },
  {
   "cell_type": "code",
   "execution_count": 90,
   "metadata": {},
   "outputs": [],
   "source": [
    "# def dfs(current_state, visited):\n",
    "#     if current_state == FINAL_STATE:\n",
    "#         return [current_state]\n",
    "\n",
    "#     visited.add(frozenset(current_state.items()))\n",
    "\n",
    "#     for aturan in ATURAN:\n",
    "#         new_state = current_state.copy()\n",
    "#         new_state.update(aturan)\n",
    "\n",
    "#         if frozenset(new_state.items()) in visited:\n",
    "#             continue\n",
    "\n",
    "#         if is_valid(new_state):\n",
    "#             solution = dfs(new_state, visited)\n",
    "#             if solution is not None:\n",
    "#                 return [current_state] + solution\n",
    "\n",
    "#     return None\n",
    "\n",
    "\n",
    "# def dfs_solve(start_state):\n",
    "#     visited = set()\n",
    "#     return dfs(start_state, visited)"
   ]
  },
  {
   "attachments": {},
   "cell_type": "markdown",
   "metadata": {},
   "source": [
    "<h3>Print Hasil</h3>"
   ]
  },
  {
   "cell_type": "code",
   "execution_count": 91,
   "metadata": {},
   "outputs": [],
   "source": [
    "def get_dfs():\n",
    "    path = dfs(START_STATE, FINAL_STATE)\n",
    "    print(*path,sep='\\n')"
   ]
  },
  {
   "cell_type": "code",
   "execution_count": 94,
   "metadata": {},
   "outputs": [
    {
     "ename": "TypeError",
     "evalue": "print() argument after * must be an iterable, not NoneType",
     "output_type": "error",
     "traceback": [
      "\u001b[1;31m---------------------------------------------------------------------------\u001b[0m",
      "\u001b[1;31mTypeError\u001b[0m                                 Traceback (most recent call last)",
      "\u001b[1;32m~\\AppData\\Local\\Temp/ipykernel_3668/3389796113.py\u001b[0m in \u001b[0;36m<module>\u001b[1;34m\u001b[0m\n\u001b[1;32m----> 1\u001b[1;33m \u001b[0mget_dfs\u001b[0m\u001b[1;33m(\u001b[0m\u001b[1;33m)\u001b[0m\u001b[1;33m\u001b[0m\u001b[1;33m\u001b[0m\u001b[0m\n\u001b[0m",
      "\u001b[1;32m~\\AppData\\Local\\Temp/ipykernel_3668/2632927781.py\u001b[0m in \u001b[0;36mget_dfs\u001b[1;34m()\u001b[0m\n\u001b[0;32m      1\u001b[0m \u001b[1;32mdef\u001b[0m \u001b[0mget_dfs\u001b[0m\u001b[1;33m(\u001b[0m\u001b[1;33m)\u001b[0m\u001b[1;33m:\u001b[0m\u001b[1;33m\u001b[0m\u001b[1;33m\u001b[0m\u001b[0m\n\u001b[0;32m      2\u001b[0m     \u001b[0mpath\u001b[0m \u001b[1;33m=\u001b[0m \u001b[0mdfs\u001b[0m\u001b[1;33m(\u001b[0m\u001b[0mSTART_STATE\u001b[0m\u001b[1;33m,\u001b[0m \u001b[0mFINAL_STATE\u001b[0m\u001b[1;33m)\u001b[0m\u001b[1;33m\u001b[0m\u001b[1;33m\u001b[0m\u001b[0m\n\u001b[1;32m----> 3\u001b[1;33m     \u001b[0mprint\u001b[0m\u001b[1;33m(\u001b[0m\u001b[1;33m*\u001b[0m\u001b[0mpath\u001b[0m\u001b[1;33m,\u001b[0m\u001b[0msep\u001b[0m\u001b[1;33m=\u001b[0m\u001b[1;34m'\\n'\u001b[0m\u001b[1;33m)\u001b[0m\u001b[1;33m\u001b[0m\u001b[1;33m\u001b[0m\u001b[0m\n\u001b[0m",
      "\u001b[1;31mTypeError\u001b[0m: print() argument after * must be an iterable, not NoneType"
     ]
    }
   ],
   "source": [
    "get_dfs()"
   ]
  }
 ],
 "metadata": {
  "kernelspec": {
   "display_name": "Python 3",
   "language": "python",
   "name": "python3"
  },
  "language_info": {
   "codemirror_mode": {
    "name": "ipython",
    "version": 3
   },
   "file_extension": ".py",
   "mimetype": "text/x-python",
   "name": "python",
   "nbconvert_exporter": "python",
   "pygments_lexer": "ipython3",
   "version": "3.10.7"
  },
  "orig_nbformat": 4
 },
 "nbformat": 4,
 "nbformat_minor": 2
}
