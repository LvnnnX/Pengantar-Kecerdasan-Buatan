{
 "cells": [
  {
   "cell_type": "code",
   "execution_count": 45,
   "metadata": {},
   "outputs": [],
   "source": [
    "import networkx as nx\n",
    "import numpy as np\n",
    "import matplotlib.pyplot as plt\n",
    "import pandas as pd"
   ]
  },
  {
   "cell_type": "code",
   "execution_count": 46,
   "metadata": {},
   "outputs": [],
   "source": [
    "G = nx.Graph()"
   ]
  },
  {
   "cell_type": "code",
   "execution_count": 47,
   "metadata": {},
   "outputs": [],
   "source": [
    "graph = [(1,2,3), # <node> <node> <weight>\n",
    "         (1,6,12),\n",
    "         (2,3,5),\n",
    "         (2,7,4),\n",
    "         (3,4,6),\n",
    "         (3,7,3),\n",
    "         (4,5,1),\n",
    "         (5,6,10),\n",
    "         (5,7,7),\n",
    "         (6,7,2)\n",
    "         ]"
   ]
  },
  {
   "cell_type": "code",
   "execution_count": 48,
   "metadata": {},
   "outputs": [],
   "source": [
    "G.add_weighted_edges_from(graph)\n",
    "\n",
    "# for nodea,nodeb,weight in graph:\n",
    "#     G.add_node(nodea, weight=weight)\n",
    "#     G.add_edge(nodea,nodeb)"
   ]
  },
  {
   "cell_type": "code",
   "execution_count": 49,
   "metadata": {},
   "outputs": [
    {
     "name": "stdout",
     "output_type": "stream",
     "text": [
      "ItemsView(AdjacencyView({1: {2: {'weight': 3}, 6: {'weight': 12}}, 2: {1: {'weight': 3}, 3: {'weight': 5}, 7: {'weight': 4}}, 6: {1: {'weight': 12}, 5: {'weight': 10}, 7: {'weight': 2}}, 3: {2: {'weight': 5}, 4: {'weight': 6}, 7: {'weight': 3}}, 7: {2: {'weight': 4}, 3: {'weight': 3}, 5: {'weight': 7}, 6: {'weight': 2}}, 4: {3: {'weight': 6}, 5: {'weight': 1}}, 5: {4: {'weight': 1}, 6: {'weight': 10}, 7: {'weight': 7}}}))\n"
     ]
    }
   ],
   "source": [
    "print((G.adj.items()))\n",
    "# for x in G.nodes():\n",
    "#     print(x)\n",
    "# G.nodes()[1]['weight']"
   ]
  },
  {
   "cell_type": "code",
   "execution_count": 50,
   "metadata": {},
   "outputs": [
    {
     "data": {
      "text/plain": [
       "DegreeView({1: 2, 2: 3, 6: 3, 3: 3, 7: 4, 4: 2, 5: 3})"
      ]
     },
     "execution_count": 50,
     "metadata": {},
     "output_type": "execute_result"
    }
   ],
   "source": [
    "G.degree()"
   ]
  },
  {
   "cell_type": "code",
   "execution_count": 69,
   "metadata": {},
   "outputs": [
    {
     "data": {
      "image/png": "[encoded data removed]",
      "text/plain": [
       "<Figure size 432x288 with 1 Axes>"
      ]
     },
     "metadata": {},
     "output_type": "display_data"
    }
   ],
   "source": [
    "#Visualisasi\n",
    "nx.draw_networkx(G=G,with_labels=True,)\n",
    "plt.show()"
   ]
  },
  {
   "cell_type": "code",
   "execution_count": 52,
   "metadata": {},
   "outputs": [
    {
     "name": "stdout",
     "output_type": "stream",
     "text": [
      "1 [2 6]\n",
      "2 [1 3 7]\n",
      "6 [1 5 7]\n",
      "3 [2 4 7]\n",
      "7 [2 3 5 6]\n",
      "4 [3 5]\n",
      "5 [4 6 7]\n"
     ]
    },
    {
     "data": {
      "text/html": [
       "<div>\n",
       "<style scoped>\n",
       "    .dataframe tbody tr th:only-of-type {\n",
       "        vertical-align: middle;\n",
       "    }\n",
       "\n",
       "    .dataframe tbody tr th {\n",
       "        vertical-align: top;\n",
       "    }\n",
       "\n",
       "    .dataframe thead th {\n",
       "        text-align: right;\n",
       "    }\n",
       "</style>\n",
       "<table border=\"1\" class=\"dataframe\">\n",
       "  <thead>\n",
       "    <tr style=\"text-align: right;\">\n",
       "      <th></th>\n",
       "      <th>1</th>\n",
       "      <th>2</th>\n",
       "      <th>3</th>\n",
       "      <th>4</th>\n",
       "      <th>5</th>\n",
       "      <th>6</th>\n",
       "      <th>7</th>\n",
       "    </tr>\n",
       "  </thead>\n",
       "  <tbody>\n",
       "    <tr>\n",
       "      <th>1</th>\n",
       "      <td>1</td>\n",
       "      <td>1</td>\n",
       "      <td>0</td>\n",
       "      <td>0</td>\n",
       "      <td>0</td>\n",
       "      <td>1</td>\n",
       "      <td>0</td>\n",
       "    </tr>\n",
       "    <tr>\n",
       "      <th>2</th>\n",
       "      <td>1</td>\n",
       "      <td>1</td>\n",
       "      <td>1</td>\n",
       "      <td>0</td>\n",
       "      <td>0</td>\n",
       "      <td>0</td>\n",
       "      <td>1</td>\n",
       "    </tr>\n",
       "    <tr>\n",
       "      <th>3</th>\n",
       "      <td>0</td>\n",
       "      <td>1</td>\n",
       "      <td>1</td>\n",
       "      <td>1</td>\n",
       "      <td>0</td>\n",
       "      <td>0</td>\n",
       "      <td>1</td>\n",
       "    </tr>\n",
       "    <tr>\n",
       "      <th>4</th>\n",
       "      <td>0</td>\n",
       "      <td>0</td>\n",
       "      <td>1</td>\n",
       "      <td>1</td>\n",
       "      <td>1</td>\n",
       "      <td>0</td>\n",
       "      <td>0</td>\n",
       "    </tr>\n",
       "    <tr>\n",
       "      <th>5</th>\n",
       "      <td>0</td>\n",
       "      <td>0</td>\n",
       "      <td>0</td>\n",
       "      <td>1</td>\n",
       "      <td>1</td>\n",
       "      <td>1</td>\n",
       "      <td>1</td>\n",
       "    </tr>\n",
       "    <tr>\n",
       "      <th>6</th>\n",
       "      <td>1</td>\n",
       "      <td>0</td>\n",
       "      <td>0</td>\n",
       "      <td>0</td>\n",
       "      <td>1</td>\n",
       "      <td>1</td>\n",
       "      <td>1</td>\n",
       "    </tr>\n",
       "    <tr>\n",
       "      <th>7</th>\n",
       "      <td>0</td>\n",
       "      <td>1</td>\n",
       "      <td>1</td>\n",
       "      <td>0</td>\n",
       "      <td>1</td>\n",
       "      <td>1</td>\n",
       "      <td>1</td>\n",
       "    </tr>\n",
       "  </tbody>\n",
       "</table>\n",
       "</div>"
      ],
      "text/plain": [
       "   1  2  3  4  5  6  7\n",
       "1  1  1  0  0  0  1  0\n",
       "2  1  1  1  0  0  0  1\n",
       "3  0  1  1  1  0  0  1\n",
       "4  0  0  1  1  1  0  0\n",
       "5  0  0  0  1  1  1  1\n",
       "6  1  0  0  0  1  1  1\n",
       "7  0  1  1  0  1  1  1"
      ]
     },
     "execution_count": 52,
     "metadata": {},
     "output_type": "execute_result"
    }
   ],
   "source": [
    "panjang_graph = len(G.degree)\n",
    "#buat matrix panjang x panjang\n",
    "list_connection = np.zeros((panjang_graph,panjang_graph),dtype='int')\n",
    "\n",
    "for node,adjacent in G.adj.items():\n",
    "    list_adjacent = np.array([int(x) for x in adjacent])\n",
    "    print(node,list_adjacent)\n",
    "    list_connection[node-1][node-1]=1\n",
    "    for x in list_adjacent:\n",
    "        list_connection[x-1][node-1] = 1\n",
    "        list_connection[node-1][x-1] = 1\n",
    "\n",
    "# print(list_connection)\n",
    "df = pd.DataFrame(data=list_connection)\n",
    "df.index +=1\n",
    "df.columns += 1\n",
    "df\n"
   ]
  },
  {
   "cell_type": "code",
   "execution_count": null,
   "metadata": {},
   "outputs": [],
   "source": []
  },
  {
   "cell_type": "code",
   "execution_count": 60,
   "metadata": {},
   "outputs": [
    {
     "name": "stdout",
     "output_type": "stream",
     "text": [
      "[(1, 2), (2, 3), (2, 7), (1, 6), (6, 5)]\n"
     ]
    }
   ],
   "source": [
    "dfs = nx.dfs_edges(G=G,source=1,depth_limit=2)\n",
    "print(list(dfs))\n",
    "# print(list(dfs.adj.items()))"
   ]
  },
  {
   "cell_type": "code",
   "execution_count": null,
   "metadata": {},
   "outputs": [],
   "source": []
  },
  {
   "cell_type": "code",
   "execution_count": 61,
   "metadata": {},
   "outputs": [
    {
     "name": "stdout",
     "output_type": "stream",
     "text": [
      "[(1, 2), (1, 6), (2, 3), (2, 7), (6, 5)]\n"
     ]
    }
   ],
   "source": [
    "bfs = nx.bfs_edges(G,source=1,depth_limit=2)\n",
    "print(list(bfs))"
   ]
  }
 ],
 "metadata": {
  "kernelspec": {
   "display_name": "Python 3",
   "language": "python",
   "name": "python3"
  },
  "language_info": {
   "codemirror_mode": {
    "name": "ipython",
    "version": 3
   },
   "file_extension": ".py",
   "mimetype": "text/x-python",
   "name": "python",
   "nbconvert_exporter": "python",
   "pygments_lexer": "ipython3",
   "version": "3.10.7"
  },
  "orig_nbformat": 4
 },
 "nbformat": 4,
 "nbformat_minor": 2
}
